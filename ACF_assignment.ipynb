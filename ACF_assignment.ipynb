{
 "cells": [
  {
   "cell_type": "markdown",
   "metadata": {},
   "source": [
    "---\n",
    "\n",
    "# B400 Advanced Corporate Finance\n",
    "### Submitted by: Veja Sovaite and Jorge\n",
    "### January 20, 2025"
   ]
  },
  {
   "cell_type": "markdown",
   "metadata": {},
   "source": [
    "The firm we chose to analyze is Merck KGaA. It is a leading science and technology company, operates across Healthcare, Life Science and Electronics, based in Darmstadt, Germany."
   ]
  },
  {
   "cell_type": "markdown",
   "metadata": {},
   "source": [
    "## Group Tasks"
   ]
  },
  {
   "cell_type": "markdown",
   "metadata": {},
   "source": [
    "## Task (a): detailed short-term and medium-term forecast of cash flows"
   ]
  },
  {
   "cell_type": "markdown",
   "metadata": {},
   "source": [
    "Our asumptions. \n",
    "\n",
    "First for growth rate of sales:\n",
    "1. Yahoo Finance (MRK.DE, “Analysis” section) indicates a 4.59% revenue growth for Merck KGaA in 2025 (https://finance.yahoo.com/quote/MRK.DE/analysis/)\n",
    "2. MarketScreener provides a 4.43% growth rate estimate for Merck KGaA in 2026 (https://de.marketscreener.com/kurs/aktie/MERCK-KGAA-436395/finanzen/)\n",
    "3. Statista reports a 4.71% CAGR (2025–2029) for the German pharmaceuticals market as a whole (https://www.statista.com/outlook/hmo/pharmaceuticals/germany)\n",
    "4. For the year 2030 we will also assume the annual growth rate of 4.71%.\n",
    "5. For year 2024, we will assume growth rate 4.5% => (https://www.merckgroup.com/investors/reports-and-financials/earnings-materials/2024-q2/en/2024-Q2-Press-Release-EN.pdf)\n",
    "\n",
    "Risk-free rate:\n",
    "1. We assume the following risk-free rate: 2.478% (10-year German government bond yield) => (https://www.investing.com/rates-bonds/germany-10-year-bond-yield)\n",
    "\n",
    "Tax rate assumptions:\n",
    "1. We assume 30% tax rate for unlevered FCF. In Germany, the combined (federal + local) corporate tax rate often ends up around 30%. Look this up: https://taxfoundation.org/data/all/eu/germany-trade-tax-rates/\n",
    "\n",
    "Assumptions for a terminal value:\n",
    "1. We assumed 2% as a growth rate for terminal value, because analysts conclude that 2–3% best reflects both mature-market constraints and long-term inflation plus GDP expansion.\n",
    "Over the long run, large mature businesses typically grow in line with or just above inflation plus real GDP (around 2% in developed markets), and in the pharmaceutical industry—where higher growth periods may be offset by competition and patent cliffs—this often normalizes to moderate single digits. As a result, professional valuations commonly apply a 2–3% terminal growth rate, striking a balance between realistic R&D-driven growth and broader macro constraints. Accordingly, choosing a 2% or 2.5% perpetuity rate is both conservative and justifiable for Merck, aligning with long-term economic patterns and industry norms.\n",
    "2. To discount TV in task (a) at first we will assume 8% as discount rate for TV, so r = 0.08, Grund dafür kommt später:D\n",
    "2. We'll assume an 8% discount rate as it is a typical ballpark figure often used in DCF models for large, mature companies.\n",
    "\n",
    "Assumptions task (e):\n",
    "1. We assume time to maturity T=5 years, because it reflects the typical time horizon over which long-term corporate debt is structured, particularly for large, stable firms like Merck KGaA."
   ]
  },
  {
   "cell_type": "code",
   "execution_count": 127,
   "metadata": {},
   "outputs": [
    {
     "name": "stderr",
     "output_type": "stream",
     "text": [
      "C:\\Users\\sovai\\AppData\\Local\\Temp\\ipykernel_4496\\729679636.py:116: FutureWarning: The default fill_method='pad' in Series.pct_change is deprecated and will be removed in a future version. Either fill in any non-leading NA values prior to calling pct_change or specify 'fill_method=None' to not fill NA values.\n",
      "  df_merged[\"FCF_Growth_Rate\"] = df_merged[\"FCF\"].pct_change()\n"
     ]
    },
    {
     "data": {
      "text/html": [
       "<div>\n",
       "<style scoped>\n",
       "    .dataframe tbody tr th:only-of-type {\n",
       "        vertical-align: middle;\n",
       "    }\n",
       "\n",
       "    .dataframe tbody tr th {\n",
       "        vertical-align: top;\n",
       "    }\n",
       "\n",
       "    .dataframe thead th {\n",
       "        text-align: right;\n",
       "    }\n",
       "</style>\n",
       "<table border=\"1\" class=\"dataframe\">\n",
       "  <thead>\n",
       "    <tr style=\"text-align: right;\">\n",
       "      <th></th>\n",
       "      <th>Year</th>\n",
       "      <th>Sales</th>\n",
       "      <th>Cost_of_Sales</th>\n",
       "      <th>EBIT</th>\n",
       "      <th>D_and_A</th>\n",
       "      <th>CapEx</th>\n",
       "      <th>WC_wo_Cash</th>\n",
       "      <th>NOPLAT</th>\n",
       "      <th>Delta_WC</th>\n",
       "      <th>FCF</th>\n",
       "      <th>FCF_Growth_Rate</th>\n",
       "    </tr>\n",
       "  </thead>\n",
       "  <tbody>\n",
       "    <tr>\n",
       "      <th>14</th>\n",
       "      <td>2023</td>\n",
       "      <td>20993.000000</td>\n",
       "      <td>8370.000000</td>\n",
       "      <td>4241.000000</td>\n",
       "      <td>1782.000000</td>\n",
       "      <td>2023.000000</td>\n",
       "      <td>1617.000000</td>\n",
       "      <td>2968.700000</td>\n",
       "      <td>649.000000</td>\n",
       "      <td>2078.700000</td>\n",
       "      <td>0.321404</td>\n",
       "    </tr>\n",
       "    <tr>\n",
       "      <th>15</th>\n",
       "      <td>2024</td>\n",
       "      <td>21937.685000</td>\n",
       "      <td>8746.650000</td>\n",
       "      <td>4431.845000</td>\n",
       "      <td>1862.190000</td>\n",
       "      <td>2114.035000</td>\n",
       "      <td>1689.765000</td>\n",
       "      <td>3102.291500</td>\n",
       "      <td>72.765000</td>\n",
       "      <td>2777.681500</td>\n",
       "      <td>0.336259</td>\n",
       "    </tr>\n",
       "    <tr>\n",
       "      <th>16</th>\n",
       "      <td>2025</td>\n",
       "      <td>22944.624741</td>\n",
       "      <td>9148.121235</td>\n",
       "      <td>4635.266685</td>\n",
       "      <td>1947.664521</td>\n",
       "      <td>2211.069206</td>\n",
       "      <td>1767.325214</td>\n",
       "      <td>3244.686680</td>\n",
       "      <td>77.560214</td>\n",
       "      <td>2903.721781</td>\n",
       "      <td>0.045376</td>\n",
       "    </tr>\n",
       "    <tr>\n",
       "      <th>17</th>\n",
       "      <td>2026</td>\n",
       "      <td>23961.071618</td>\n",
       "      <td>9553.383006</td>\n",
       "      <td>4840.609000</td>\n",
       "      <td>2033.946059</td>\n",
       "      <td>2309.019572</td>\n",
       "      <td>1845.617720</td>\n",
       "      <td>3388.426300</td>\n",
       "      <td>78.292507</td>\n",
       "      <td>3035.060280</td>\n",
       "      <td>0.045231</td>\n",
       "    </tr>\n",
       "    <tr>\n",
       "      <th>18</th>\n",
       "      <td>2027</td>\n",
       "      <td>25089.638091</td>\n",
       "      <td>10003.347345</td>\n",
       "      <td>5068.601684</td>\n",
       "      <td>2129.744919</td>\n",
       "      <td>2417.774394</td>\n",
       "      <td>1932.546315</td>\n",
       "      <td>3548.021178</td>\n",
       "      <td>86.928595</td>\n",
       "      <td>3173.063108</td>\n",
       "      <td>0.045470</td>\n",
       "    </tr>\n",
       "    <tr>\n",
       "      <th>19</th>\n",
       "      <td>2028</td>\n",
       "      <td>NaN</td>\n",
       "      <td>NaN</td>\n",
       "      <td>NaN</td>\n",
       "      <td>NaN</td>\n",
       "      <td>NaN</td>\n",
       "      <td>NaN</td>\n",
       "      <td>NaN</td>\n",
       "      <td>NaN</td>\n",
       "      <td>3676.780069</td>\n",
       "      <td>0.158748</td>\n",
       "    </tr>\n",
       "    <tr>\n",
       "      <th>20</th>\n",
       "      <td>2029</td>\n",
       "      <td>NaN</td>\n",
       "      <td>NaN</td>\n",
       "      <td>NaN</td>\n",
       "      <td>NaN</td>\n",
       "      <td>NaN</td>\n",
       "      <td>NaN</td>\n",
       "      <td>NaN</td>\n",
       "      <td>NaN</td>\n",
       "      <td>4260.461016</td>\n",
       "      <td>0.158748</td>\n",
       "    </tr>\n",
       "    <tr>\n",
       "      <th>21</th>\n",
       "      <td>2030</td>\n",
       "      <td>NaN</td>\n",
       "      <td>NaN</td>\n",
       "      <td>NaN</td>\n",
       "      <td>NaN</td>\n",
       "      <td>NaN</td>\n",
       "      <td>NaN</td>\n",
       "      <td>NaN</td>\n",
       "      <td>NaN</td>\n",
       "      <td>4936.800061</td>\n",
       "      <td>0.158748</td>\n",
       "    </tr>\n",
       "  </tbody>\n",
       "</table>\n",
       "</div>"
      ],
      "text/plain": [
       "    Year         Sales  Cost_of_Sales         EBIT      D_and_A        CapEx  \\\n",
       "14  2023  20993.000000    8370.000000  4241.000000  1782.000000  2023.000000   \n",
       "15  2024  21937.685000    8746.650000  4431.845000  1862.190000  2114.035000   \n",
       "16  2025  22944.624741    9148.121235  4635.266685  1947.664521  2211.069206   \n",
       "17  2026  23961.071618    9553.383006  4840.609000  2033.946059  2309.019572   \n",
       "18  2027  25089.638091   10003.347345  5068.601684  2129.744919  2417.774394   \n",
       "19  2028           NaN            NaN          NaN          NaN          NaN   \n",
       "20  2029           NaN            NaN          NaN          NaN          NaN   \n",
       "21  2030           NaN            NaN          NaN          NaN          NaN   \n",
       "\n",
       "     WC_wo_Cash       NOPLAT    Delta_WC          FCF  FCF_Growth_Rate  \n",
       "14  1617.000000  2968.700000  649.000000  2078.700000         0.321404  \n",
       "15  1689.765000  3102.291500   72.765000  2777.681500         0.336259  \n",
       "16  1767.325214  3244.686680   77.560214  2903.721781         0.045376  \n",
       "17  1845.617720  3388.426300   78.292507  3035.060280         0.045231  \n",
       "18  1932.546315  3548.021178   86.928595  3173.063108         0.045470  \n",
       "19          NaN          NaN         NaN  3676.780069         0.158748  \n",
       "20          NaN          NaN         NaN  4260.461016         0.158748  \n",
       "21          NaN          NaN         NaN  4936.800061         0.158748  "
      ]
     },
     "execution_count": 127,
     "metadata": {},
     "output_type": "execute_result"
    }
   ],
   "source": [
    "import pandas as pd\n",
    "import numpy as np\n",
    "\n",
    "# First, we load historical data into a DataFrame\n",
    "df_hist = pd.DataFrame({\n",
    "    \"Year\": [\n",
    "        2023, 2022, 2021, 2020, 2019, 2018, 2017, 2016, 2015, \n",
    "        2014, 2013, 2012, 2011, 2010, 2009\n",
    "    ],\n",
    "    \"Sales\": [  \n",
    "        20993, 22232, 19687, 17534, 16152, 14836, 14517, 15024, 12844.7, \n",
    "        11362.8, 11095.1, 11172.9, 10276.4, 9290.6, 7747\n",
    "    ],\n",
    "    \"Cost_of_Sales\": [  \n",
    "        8370, 8413, 7325, 6782, 5951, 5342, 5071, 5201, 4076.3,\n",
    "        3526.4, 3041.7, 4029.3, 3623.5, 3070, 2687.1\n",
    "    ],\n",
    "    \"EBIT\": [\n",
    "        4241, 5263, 4372, 3070, 2509, 2128, 2464, 2492, 2244.5, \n",
    "        1836, 2138, 1886.3, 1398.1, 1404, 835\n",
    "    ],\n",
    "    \"D_and_A\": [  \n",
    "        1782, 1798, 1712, 1758, 1905, 1748, 2442, 1934, 1383.4,\n",
    "        1360.9, 1237.9, 1319.3, 1244.7, 1257.9, 1003.8\n",
    "    ],\n",
    "    \"CapEx\": [\n",
    "        2023.0, 1806.0, 1421.0, 1563.0, 1021.0, 1016.0, 1311.0, 848.0, 693.0, \n",
    "        624.2, 516.6, 473.3, 446.0, 500.4, 563.9\n",
    "    ],    \n",
    "    \"WC_wo_Cash\": [  \n",
    "        1617.0, 968.0, -1135.0, -1185.0, -3437.0, -1480.0, -1803.0, -2400.0, -3063.0,\n",
    "        -1156.2, 139.4, -245.0, 763.8, 1307.1, 667.5\n",
    "    ]\n",
    "})\n",
    "df_hist.sort_values(\"Year\", inplace=True)\n",
    "\n",
    "# Then we calculate historical FCF\n",
    "tax_rate = 0.30\n",
    "df_hist[\"NOPLAT\"] = df_hist[\"EBIT\"] * (1 - tax_rate)\n",
    "df_hist[\"Delta_WC\"] = df_hist[\"WC_wo_Cash\"].diff()\n",
    "df_hist[\"FCF\"] = (\n",
    "    df_hist[\"NOPLAT\"]\n",
    "    + df_hist[\"D_and_A\"]\n",
    "    - df_hist[\"CapEx\"]\n",
    "    - df_hist[\"Delta_WC\"]\n",
    ")\n",
    "\n",
    "# We take ratios for the year 2023 before the forecast\n",
    "cost_sales_ratio_2023 = df_hist.loc[df_hist[\"Year\"] == 2023, \"Cost_of_Sales\"].values[0] / df_hist.loc[df_hist[\"Year\"] == 2023, \"Sales\"].values[0]\n",
    "ebit_margin_2023 = df_hist.loc[df_hist[\"Year\"] == 2023, \"EBIT\"].values[0] / df_hist.loc[df_hist[\"Year\"] == 2023, \"Sales\"].values[0]\n",
    "dna_ratio_2023 = df_hist.loc[df_hist[\"Year\"] == 2023, \"D_and_A\"].values[0] / df_hist.loc[df_hist[\"Year\"] == 2023, \"Sales\"].values[0]\n",
    "capex_ratio_2023 = df_hist.loc[df_hist[\"Year\"] == 2023, \"CapEx\"].values[0] / df_hist.loc[df_hist[\"Year\"] == 2023, \"Sales\"].values[0]\n",
    "wc_ratio_2023 = df_hist.loc[df_hist[\"Year\"] == 2023, \"WC_wo_Cash\"].values[0] / df_hist.loc[df_hist[\"Year\"] == 2023, \"Sales\"].values[0]\n",
    "\n",
    "# Then we list here our sales growth assumptions\n",
    "sales_growth_map = {\n",
    "    2024: 0.045,\n",
    "    2025: 0.0459,\n",
    "    2026: 0.0443,\n",
    "    2027: 0.0471\n",
    "}\n",
    "\n",
    "# This is to store forecast data\n",
    "forecast_data = {\n",
    "    \"Year\": [],\n",
    "    \"Sales\": [],\n",
    "    \"Cost_of_Sales\": [],\n",
    "    \"EBIT\": [],\n",
    "    \"D_and_A\": [],\n",
    "    \"CapEx\": [],\n",
    "    \"WC_wo_Cash\": [],\n",
    "    \"NOPLAT\": [],\n",
    "    \"Delta_WC\": [],\n",
    "    \"FCF\": []\n",
    "}\n",
    "\n",
    "# Here we created a forecasting loop\n",
    "current_sales = df_hist.loc[df_hist[\"Year\"] == 2023, \"Sales\"].values[0]\n",
    "current_fcf = df_hist.loc[df_hist[\"Year\"] == 2023, \"FCF\"].values[0]\n",
    "prev_wc = df_hist.loc[df_hist[\"Year\"] == 2023, \"WC_wo_Cash\"].values[0]\n",
    "\n",
    "for year in sales_growth_map.keys():\n",
    "    growth = sales_growth_map[year]\n",
    "    current_sales *= (1 + growth)\n",
    "    cost_of_sales = current_sales * cost_sales_ratio_2023\n",
    "    ebit = current_sales * ebit_margin_2023\n",
    "    d_and_a = current_sales * dna_ratio_2023\n",
    "    capex = current_sales * capex_ratio_2023\n",
    "    wc_wo_cash = current_sales * wc_ratio_2023\n",
    "    delta_wc = wc_wo_cash - prev_wc\n",
    "    prev_wc = wc_wo_cash\n",
    "    noplat = ebit * (1 - tax_rate)\n",
    "    current_fcf = noplat + d_and_a - capex - delta_wc\n",
    "\n",
    "    forecast_data[\"Year\"].append(year)\n",
    "    forecast_data[\"Sales\"].append(current_sales)\n",
    "    forecast_data[\"Cost_of_Sales\"].append(cost_of_sales)\n",
    "    forecast_data[\"EBIT\"].append(ebit)\n",
    "    forecast_data[\"D_and_A\"].append(d_and_a)\n",
    "    forecast_data[\"CapEx\"].append(capex)\n",
    "    forecast_data[\"WC_wo_Cash\"].append(wc_wo_cash)\n",
    "    forecast_data[\"NOPLAT\"].append(noplat)\n",
    "    forecast_data[\"Delta_WC\"].append(delta_wc)\n",
    "    forecast_data[\"FCF\"].append(current_fcf)\n",
    "\n",
    "# Then we convert forecast data to DataFrame and merge\n",
    "df_forecast = pd.DataFrame(forecast_data)\n",
    "df_merged = pd.concat([df_hist, df_forecast], ignore_index=True).sort_values(\"Year\")\n",
    "\n",
    "# This is to make sure years 2028-2030 exist in the DataFrame\n",
    "for year in range(2028, 2031):\n",
    "    if year not in df_merged[\"Year\"].values:\n",
    "        df_merged = pd.concat([df_merged, pd.DataFrame({\"Year\": [year]})], ignore_index=True)\n",
    "\n",
    "# Next for the further forecast horizon we calculate FCF growth rate from 2023 to 2027\n",
    "df_merged[\"FCF_Growth_Rate\"] = df_merged[\"FCF\"].pct_change()\n",
    "\n",
    "# Then we calculate the mean FCF growth rate for the years 2023 to 2027\n",
    "fcf_growth_avg = df_merged.loc[(df_merged[\"Year\"] >= 2023) & (df_merged[\"Year\"] <= 2027), \"FCF_Growth_Rate\"].mean()\n",
    "\n",
    "# And then we apply the mean growth rate to forecast FCF for 2028-2030\n",
    "for year in range(2028, 2031):\n",
    "    prev_fcf = df_merged.loc[df_merged[\"Year\"] == year - 1, \"FCF\"].values[0]\n",
    "    forecast_fcf = prev_fcf * (1 + fcf_growth_avg)\n",
    "    df_merged.loc[df_merged[\"Year\"] == year, \"FCF\"] = forecast_fcf\n",
    "\n",
    "# Here we recalculate FCF growth rate after updating FCF for 2028-2030\n",
    "df_merged[\"FCF_Growth_Rate\"] = df_merged[\"FCF\"].pct_change()\n",
    "\n",
    "# And finally we display the results\n",
    "df_final_result_updated = df_merged[df_merged[\"Year\"] >= 2023].copy()\n",
    "df_final_result_updated"
   ]
  },
  {
   "cell_type": "markdown",
   "metadata": {},
   "source": [
    "## Task (a): terminal value"
   ]
  },
  {
   "cell_type": "code",
   "execution_count": 128,
   "metadata": {},
   "outputs": [
    {
     "data": {
      "text/plain": [
       "14        0.000000\n",
       "15        0.000000\n",
       "16        0.000000\n",
       "17        0.000000\n",
       "18        0.000000\n",
       "19        0.000000\n",
       "20        0.000000\n",
       "21    82280.001014\n",
       "Name: Terminal_Value, dtype: float64"
      ]
     },
     "execution_count": 128,
     "metadata": {},
     "output_type": "execute_result"
    }
   ],
   "source": [
    "# We'll assume an 8% discount rate (r = 0.08) and growth rate g = 0.02 and then calculate terminal value as V = X / (r-g)\n",
    "discount_rate = 0.08\n",
    "growth_rate = 0.02\n",
    "year_terminal = 2030\n",
    "last_hist_year = df_hist[\"Year\"].max()\n",
    "\n",
    "# FCF in 2030\n",
    "fcf_2030 = df_final_result_updated.loc[df_final_result_updated[\"Year\"] == year_terminal, \"FCF\"].values[0]\n",
    "\n",
    "\n",
    "# Next, we calculate terminal value\n",
    "terminal_value_2030 = fcf_2030 / (discount_rate-growth_rate)\n",
    "\n",
    "n = year_terminal - last_hist_year  \n",
    "\n",
    "df_final_result_updated[\"Terminal_Value\"] = np.where(\n",
    "    df_final_result_updated[\"Year\"] == year_terminal, terminal_value_2030, 0.0\n",
    ")\n",
    "\n",
    "df_final_result_updated[\"Terminal_Value\"]\n"
   ]
  },
  {
   "cell_type": "markdown",
   "metadata": {},
   "source": [
    "## Task (b): estimating the beta factor and the cost of equity using the CAPM model"
   ]
  },
  {
   "cell_type": "code",
   "execution_count": 129,
   "metadata": {},
   "outputs": [
    {
     "name": "stderr",
     "output_type": "stream",
     "text": [
      "[*********************100%***********************]  1 of 1 completed\n",
      "[*********************100%***********************]  1 of 1 completed\n"
     ]
    },
    {
     "name": "stdout",
     "output_type": "stream",
     "text": [
      "Merck Indices:\n",
      "DatetimeIndex(['2014-07-01', '2014-08-01', '2014-09-01', '2014-10-01',\n",
      "               '2014-11-01', '2014-12-01', '2015-01-01', '2015-02-01',\n",
      "               '2015-03-01', '2015-04-01',\n",
      "               ...\n",
      "               '2023-09-01', '2023-10-01', '2023-11-01', '2023-12-01',\n",
      "               '2024-01-01', '2024-02-01', '2024-03-01', '2024-04-01',\n",
      "               '2024-05-01', '2024-06-01'],\n",
      "              dtype='datetime64[ns]', name='Date', length=120, freq=None)\n",
      "\n",
      "DAX Indices:\n",
      "DatetimeIndex(['2014-07-01', '2014-08-01', '2014-09-01', '2014-10-01',\n",
      "               '2014-11-01', '2014-12-01', '2015-01-01', '2015-02-01',\n",
      "               '2015-03-01', '2015-04-01',\n",
      "               ...\n",
      "               '2023-09-01', '2023-10-01', '2023-11-01', '2023-12-01',\n",
      "               '2024-01-01', '2024-02-01', '2024-03-01', '2024-04-01',\n",
      "               '2024-05-01', '2024-06-01'],\n",
      "              dtype='datetime64[ns]', name='Date', length=120, freq=None)\n",
      "\n",
      "Combined Data:\n",
      "                 Merck           DAX\n",
      "Date                                \n",
      "2014-07-01   58.717117   9407.480469\n",
      "2014-08-01   58.584438   9470.169922\n",
      "2014-09-01   64.599434   9474.299805\n",
      "2014-10-01   63.750263   9326.870117\n",
      "2014-11-01   70.835602   9980.849609\n",
      "...                ...           ...\n",
      "2024-02-01  155.512299  17678.189453\n",
      "2024-03-01  161.228210  18492.490234\n",
      "2024-04-01  146.790588  17932.169922\n",
      "2024-05-01  166.500000  18497.939453\n",
      "2024-06-01  154.750000  18235.449219\n",
      "\n",
      "[120 rows x 2 columns]\n",
      "Annualized Volatility of Merck KGaA Returns: 23.80%\n",
      "\n",
      "Beta of Merck KGaA relative to the DAX 40 Index (last 10 years): 0.7395\n"
     ]
    },
    {
     "data": {
      "image/png": "[encoded data removed]",
      "text/plain": [
       "<Figure size 640x480 with 1 Axes>"
      ]
     },
     "metadata": {},
     "output_type": "display_data"
    }
   ],
   "source": [
    "import yfinance as yf\n",
    "import matplotlib.pyplot as plt\n",
    "import seaborn as sns\n",
    "\n",
    "# We first download data for Merck KGaA and DAX 30 Index (last 8 years)\n",
    "start_date = '2014-07-01'\n",
    "end_date = '2024-07-01'\n",
    "\n",
    "# Then we download monthly adjusted closing prices\n",
    "merck = yf.download('MRK.DE', start=start_date, end=end_date, interval='1mo')\n",
    "dax = yf.download('^GDAXI', start=start_date, end=end_date, interval='1mo')\n",
    "\n",
    "# We only keep the adjusted closing prices\n",
    "merck_close = merck['Adj Close'] if 'Adj Close' in merck.columns else merck['Close']\n",
    "dax_close = dax['Adj Close'] if 'Adj Close' in dax.columns else dax['Close']\n",
    "\n",
    "# Here we check the indices of the series\n",
    "print(\"Merck Indices:\")\n",
    "print(merck_close.index)\n",
    "print(\"\\nDAX Indices:\")\n",
    "print(dax_close.index)\n",
    "\n",
    "# Then we align the indices using an inner join\n",
    "df = pd.concat([merck_close, dax_close], axis=1, join='inner')\n",
    "df.columns = ['Merck', 'DAX']\n",
    "\n",
    "df.dropna(inplace=True)\n",
    "\n",
    "print(\"\\nCombined Data:\")\n",
    "print(df)\n",
    "\n",
    "# Then we calculate monthly returns\n",
    "df['Merck_Return'] = df['Merck'].pct_change()\n",
    "df['DAX_Return'] = df['DAX'].pct_change()\n",
    "df.dropna(inplace=True)\n",
    "\n",
    "# We calculate the standard deviation of monthly returns (volatility) needed later for task e\n",
    "monthly_volatility = df['Merck_Return'].std()\n",
    "annualized_volatility = monthly_volatility * np.sqrt(12)\n",
    "print(f\"Annualized Volatility of Merck KGaA Returns: {annualized_volatility:.2%}\")\n",
    "\n",
    "\n",
    "# Finally, we calculate Beta\n",
    "cov_matrix = np.cov(df['Merck_Return'], df['DAX_Return'])\n",
    "beta = cov_matrix[0, 1] / cov_matrix[1, 1]\n",
    "print(f\"\\nBeta of Merck KGaA relative to the DAX 40 Index (last 10 years): {beta:.4f}\")\n",
    "\n",
    "# This is a plot of returns with a regression line\n",
    "sns.regplot(x='DAX_Return', y='Merck_Return', data=df, ci=None, line_kws={\"color\": \"red\"})\n",
    "plt.title('Merck KGaA vs. DAX 40 Index Monthly Returns (Last 10 Years)')\n",
    "plt.xlabel('DAX 40 Index Monthly Returns')\n",
    "plt.ylabel('Merck KGaA Monthly Returns')\n",
    "plt.grid(True)\n",
    "plt.show()\n"
   ]
  },
  {
   "cell_type": "markdown",
   "metadata": {},
   "source": [
    "# 1. Beta Value Interpretation\n",
    "Beta = 0.7395\n",
    "Beta less than 1:\n",
    "A beta of 0.7395 indicates that Merck KGaA is less volatile than the DAX 30 Index.\n",
    "For every 1% change in the DAX 30 Index, Merck KGaA's stock price is expected to change by approximately 0.7395% in the same direction.\n",
    "This suggests that Merck KGaA is a defensive stock — it tends to move with the market, but its price movements are less pronounced compared to the overall market.\n",
    "Risk and Return Implications\n",
    "Lower Risk:\n",
    "Merck KGaA carries lower systematic risk compared to the DAX 30 Index.\n",
    "In market downturns, Merck KGaA’s stock is likely to decline less than the broader market.\n",
    "Lower Returns in Uptrends:\n",
    "Conversely, during market uptrends, Merck KGaA may not rise as much as the overall market.\n"
   ]
  },
  {
   "cell_type": "code",
   "execution_count": 130,
   "metadata": {},
   "outputs": [
    {
     "name": "stderr",
     "output_type": "stream",
     "text": [
      "[*********************100%***********************]  1 of 1 completed"
     ]
    },
    {
     "name": "stdout",
     "output_type": "stream",
     "text": [
      "Average Annual Market Return: 12.23%\n"
     ]
    },
    {
     "name": "stderr",
     "output_type": "stream",
     "text": [
      "\n"
     ]
    }
   ],
   "source": [
    "# Next, we download historical market data (DAX 40 Index as an example)\n",
    "ticker = \"^GDAXI\"  # DAX 40 Index ticker\n",
    "start_date = \"2020-07-01\"\n",
    "end_date = \"2024-07-01\"\n",
    "\n",
    "# We fetch monthly data for the last 4 years\n",
    "market_data = yf.download(ticker, start=start_date, end=end_date, interval='1mo')\n",
    "\n",
    "# And then calculate monthly returns\n",
    "if 'Adj Close' in market_data.columns:\n",
    "    price_data = market_data['Adj Close']\n",
    "elif 'Close' in market_data.columns:\n",
    "    price_data = market_data['Close']\n",
    "else:\n",
    "    raise KeyError(\"Neither 'Adj Close' nor 'Close' found in the dataset!\")\n",
    "\n",
    "market_data['Monthly_Return'] = price_data.pct_change()\n",
    "market_data.dropna(inplace=True)\n",
    "\n",
    "# We finally calculate the average monthly return\n",
    "average_monthly_return = market_data['Monthly_Return'].mean()\n",
    "annualized_return = (1 + average_monthly_return) ** 12 - 1\n",
    "\n",
    "print(f\"Average Annual Market Return: {annualized_return:.2%}\")"
   ]
  },
  {
   "cell_type": "code",
   "execution_count": 131,
   "metadata": {},
   "outputs": [
    {
     "name": "stdout",
     "output_type": "stream",
     "text": [
      "Cost of Equity (k_S): 9.69%\n"
     ]
    }
   ],
   "source": [
    "# Here we assume a risk-free rate of 2.478% (10-year German government bond yield) and use the other calculated values\n",
    "risk_free_rate = 0.02478     \n",
    "beta = beta                 \n",
    "market_return = annualized_return      \n",
    "\n",
    "# We then calculate market risk premium\n",
    "market_risk_premium = market_return - risk_free_rate\n",
    "\n",
    "# And next we calculate cost of equity using CAPM\n",
    "cost_of_equity = risk_free_rate + beta * market_risk_premium\n",
    "\n",
    "print(f\"Cost of Equity (k_S): {cost_of_equity:.2%}\")\n"
   ]
  },
  {
   "cell_type": "markdown",
   "metadata": {},
   "source": [
    "### What Does This Mean?\n",
    "1. **Cost of Equity (\\(k_S\\))**: **9.69%**:\n",
    "   - Investors require a **9.69% annual return** for investing in this stock.\n",
    "   - This return compensates them for the **time value of money** and the **risk** of the investment.\n",
    "   - The cost of equity is used as the **discount rate** for evaluating future cash flows in valuation models like the **Discounted Cash Flow (DCF)**.\n",
    "\n",
    "2. **Implications for Valuation**:\n",
    "   - If the company's expected returns are **higher** than 9.69%, the stock may be considered **undervalued**.\n",
    "   - If the expected returns are **lower**, the stock may be considered **overvalued**.\n",
    "\n",
    "3. **Risk Perspective**:\n",
    "   - A **beta of 0.7395** indicates that the stock is **less volatile** than the overall market.\n",
    "   - The stock is likely to experience **smaller fluctuations** compared to the market index.\n"
   ]
  },
  {
   "cell_type": "markdown",
   "metadata": {},
   "source": [
    "## Task (c): Firm value with WACC aproach assuming constant debt ratio"
   ]
  },
  {
   "cell_type": "markdown",
   "metadata": {},
   "source": [
    "First, we calculate the market value of debt, for that we use data from here: https://www.merckgroup.com/en/annualreport/2023/notes/capital-structure-investments-and-financing-activities/financial-debt-capital-management.html"
   ]
  },
  {
   "cell_type": "code",
   "execution_count": 132,
   "metadata": {},
   "outputs": [
    {
     "name": "stdout",
     "output_type": "stream",
     "text": [
      "Weighted Average Maturity (T): 21.18 years\n",
      "Market Value of Debt: €10049.77 million\n"
     ]
    }
   ],
   "source": [
    "def calculate_weighted_average_maturity(debt_data):\n",
    "    total_nominal_value = sum([item['nominal_value'] for item in debt_data])\n",
    "    weighted_maturity = sum([item['nominal_value'] * item['years_to_maturity'] for item in debt_data])\n",
    "    return weighted_maturity / total_nominal_value\n",
    "\n",
    "# A function we define to calculate the market value of debt\n",
    "def calculate_market_value_of_debt(C, Kd, T, FV):\n",
    "    term_1 = C * ((1 - (1 / ((1 + Kd) ** T))) / Kd) # PV of coupon payments\n",
    "    term_2 = FV / ((1 + Kd) ** T) # PV of face value\n",
    "    return term_1 + term_2 # total market value of debt\n",
    "\n",
    "# Data from merckgroup.com\n",
    "debt_data = [\n",
    "    {'nominal_value': 1600, 'years_to_maturity': 2},\n",
    "    {'nominal_value': 750, 'years_to_maturity': 2},\n",
    "    {'nominal_value': 500, 'years_to_maturity': 3},\n",
    "    {'nominal_value': 600, 'years_to_maturity': 4},\n",
    "    {'nominal_value': 750, 'years_to_maturity': 5},\n",
    "    {'nominal_value': 500, 'years_to_maturity': 7},\n",
    "    {'nominal_value': 800, 'years_to_maturity': 8},\n",
    "    {'nominal_value': 500, 'years_to_maturity': 51},\n",
    "    {'nominal_value': 500, 'years_to_maturity': 56},\n",
    "    {'nominal_value': 750, 'years_to_maturity': 56},\n",
    "    {'nominal_value': 1000, 'years_to_maturity': 57},\n",
    "]\n",
    "\n",
    "C = 253  # this is interest expense in EUR million for 2023\n",
    "Kd = 0.02478  # cost of debt we set equal to the risk-free rate\n",
    "FV = 9941  # and this is total financial debt (EUR million) for 2023\n",
    "\n",
    "T = calculate_weighted_average_maturity(debt_data)\n",
    "print(f\"Weighted Average Maturity (T): {T:.2f} years\")\n",
    "\n",
    "market_value_debt = calculate_market_value_of_debt(C, Kd, T, FV)\n",
    "print(f\"Market Value of Debt: €{market_value_debt:.2f} million\")\n"
   ]
  },
  {
   "cell_type": "markdown",
   "metadata": {},
   "source": [
    "We take the levered beta that we calculated in task (b), which is 0.7395."
   ]
  },
  {
   "cell_type": "code",
   "execution_count": 133,
   "metadata": {},
   "outputs": [
    {
     "name": "stdout",
     "output_type": "stream",
     "text": [
      "Cost of Equity (ks) with constant debt ratio assumption: 0.0869\n"
     ]
    }
   ],
   "source": [
    "levered_beta =0.7395\n",
    "S = 62651 # market cap 2023\n",
    "D = 10049.77 # market value of debt 2023\n",
    "risk_free_rate = 0.02478\n",
    "\n",
    "# Here I calculate cost of equity using the levered beta and the CAPM formula\n",
    "unlevered_beta = levered_beta / (1 + (D / S))\n",
    "ks = risk_free_rate + unlevered_beta * market_risk_premium\n",
    "print(f\"Cost of Equity (ks) with constant debt ratio assumption: {ks:.4f}\")"
   ]
  },
  {
   "cell_type": "markdown",
   "metadata": {},
   "source": [
    "Then we calculate firm value with WACC approach assuming constant debt ratio."
   ]
  },
  {
   "cell_type": "code",
   "execution_count": 134,
   "metadata": {},
   "outputs": [
    {
     "name": "stdout",
     "output_type": "stream",
     "text": [
      "Total Firm Value with WACC aproach assuming constant debt ratio: €69,233.97 million\n",
      "WACC: 0.0773\n"
     ]
    }
   ],
   "source": [
    "fcf = [2777.6815, 2903.721781, 3035.06028, 3173.063108, 3676.780069, 4260.461016, 4936.800061]  # FCFs 2024-2030\n",
    "growth_rate = 0.02  \n",
    "last_fcf = 4936.800061 \n",
    "d = 10049.77  # market value of debt\n",
    "kd = 0.02478  # cost of debt we set equal to the risk-free rate\n",
    "t = 0.3  # tax rate\n",
    "s = 62651  # market cap for 2023\n",
    "ks = 0.0869  # cost of equity from calculation above\n",
    "v = s + d  # total firm value\n",
    "\n",
    "# This is a function we define to calculate WACC firm value\n",
    "def calculate_wacc(fcf, terminal_value, wacc):\n",
    "    discount_rate = wacc  \n",
    "    value_wacc = 0\n",
    "\n",
    "    for year, cash_flow in enumerate(fcf, start=1): # PV of FCFs\n",
    "        value_wacc += cash_flow / ((1 + discount_rate) ** year)\n",
    "\n",
    "    value_wacc += terminal_value / ((1 + discount_rate) ** len(fcf)) # PV of terminal value and add \n",
    "\n",
    "    return value_wacc\n",
    "\n",
    "# wacc calculation\n",
    "weight_equity = s / v\n",
    "weight_debt = d / v\n",
    "wacc = (weight_equity * ks) + (weight_debt * kd * (1 - t))\n",
    "terminal_value = last_fcf / (wacc - growth_rate)  # terminal value calculation\n",
    "\n",
    "value_wacc = calculate_wacc(fcf, terminal_value, wacc)\n",
    "print(f\"Total Firm Value with WACC aproach assuming constant debt ratio: €{value_wacc:,.2f} million\")\n",
    "print(f\"WACC: {wacc:,.4f}\")"
   ]
  },
  {
   "cell_type": "markdown",
   "metadata": {},
   "source": [
    "## Task (c): Firm value with APV approach assuming fixed absolute credit plan"
   ]
  },
  {
   "cell_type": "code",
   "execution_count": 135,
   "metadata": {},
   "outputs": [
    {
     "name": "stdout",
     "output_type": "stream",
     "text": [
      "Cost of Equity (ks) with fixed debt amount assumption: 0.0896\n"
     ]
    }
   ],
   "source": [
    "levered_beta = 0.7395\n",
    "S = 62651 # market cap 2023\n",
    "D = 10049.77 # market value of debt 2023\n",
    "risk_free_rate = 0.02478\n",
    "eff_t = 0.30 # effective tax rate assumption\n",
    "\n",
    "# Here I calculate cost of equity using the levered beta and the CAPM formula, this time including eff_t\n",
    "unlevered_beta = levered_beta / (1 + (1 - eff_t) * (D / S))\n",
    "ks = risk_free_rate + unlevered_beta * market_risk_premium\n",
    "print(f\"Cost of Equity (ks) with fixed debt amount assumption: {ks:.4f}\")"
   ]
  },
  {
   "cell_type": "code",
   "execution_count": 136,
   "metadata": {},
   "outputs": [
    {
     "name": "stdout",
     "output_type": "stream",
     "text": [
      "Unlevered Cost of Equity (ku): 0.0831\n"
     ]
    }
   ],
   "source": [
    "# Here I calculate the unlevered cost of equity (ku) using the formula:\n",
    "S = 62651\n",
    "D = market_value_debt\n",
    "eff_t = 0.30\n",
    "ks = 0.0896\n",
    "\n",
    "def calculate_ku(ks, Kd, eff_t, D, S):\n",
    "    numerator = ks + Kd * (1 - eff_t) * (D / S)\n",
    "    denominator = 1 + (1 - eff_t) * (D / S)\n",
    "    ku = numerator / denominator\n",
    "    return ku\n",
    "\n",
    "ku = calculate_ku(ks, Kd, eff_t, D, S)\n",
    "print(f\"Unlevered Cost of Equity (ku): {ku:.4f}\")"
   ]
  },
  {
   "cell_type": "code",
   "execution_count": 137,
   "metadata": {},
   "outputs": [
    {
     "name": "stdout",
     "output_type": "stream",
     "text": [
      "Total Firm Value with APV aproach assuming fixed debt amount: €62,889.83 million\n"
     ]
    }
   ],
   "source": [
    "# This is a function we define to calculate the firm value using the APV approach with fixed debt amount\n",
    "def calculate_firm_value(fcf, terminal_value, ku, tc, D, c, rf):\n",
    "    years = np.arange(1, len(fcf) + 1)\n",
    "    \n",
    "    pv_fcf = np.sum([fcf[i] / (1 + ku)**years[i] for i in range(len(fcf))]) # PV of FCFs (2024-2030)\n",
    "        \n",
    "    pv_terminal_value = terminal_value / (1 + ku)**len(fcf) # PV of terminal value in 2030\n",
    "    \n",
    "    total_pv_fcfs = pv_fcf + pv_terminal_value  # total PV of FCFs\n",
    "\n",
    "    tax_shields = [(tc * c) / ((1 + rf)**year) for year in years]\n",
    "\n",
    "    pv_tax_shield = np.sum(tax_shields) # sum of PV of tax shields\n",
    "\n",
    "    firm_value = total_pv_fcfs + pv_tax_shield # total firm value\n",
    "\n",
    "    return firm_value\n",
    "\n",
    "# This is input data\n",
    "fcf = [2777.6815, 2903.721781, 3035.06028, 3173.063108, 3676.780069, 4260.461016, 4936.800061]  # FCFs 2024-2030\n",
    "ku = 0.0831  # unlevered cost of equity\n",
    "terminal_value = last_fcf / (ku - growth_rate)\n",
    "tc = 0.30  # tax rate\n",
    "D = 10049.77  # market value of debt (in million EUR)\n",
    "c = 253  # interest expense (in million EUR)\n",
    "rf = 0.02478  # risk-free rate\n",
    "\n",
    "firm_value = calculate_firm_value(fcf, terminal_value, ku, tc, D, c, rf)\n",
    "print(f\"Total Firm Value with APV aproach assuming fixed debt amount: €{firm_value:,.2f} million\")\n"
   ]
  },
  {
   "cell_type": "markdown",
   "metadata": {},
   "source": [
    "## Task (c): Firm value with APV aproach assuming constant debt ratio"
   ]
  },
  {
   "cell_type": "code",
   "execution_count": 138,
   "metadata": {},
   "outputs": [
    {
     "name": "stdout",
     "output_type": "stream",
     "text": [
      "Cost of Equity (ks) with constant debt ratio assumption: 0.0869\n"
     ]
    }
   ],
   "source": [
    "levered_beta = 0.7395\n",
    "S = 62651 # market cap 2023\n",
    "D = 10049.77 # market value of debt 2023\n",
    "risk_free_rate = 0.02478\n",
    "\n",
    "# Here I calculate cost of equity using the levered beta and the CAPM formula\n",
    "unlevered_beta = levered_beta / (1 + (D / S))\n",
    "ks = risk_free_rate + unlevered_beta * market_risk_premium\n",
    "print(f\"Cost of Equity (ks) with constant debt ratio assumption: {ks:.4f}\")"
   ]
  },
  {
   "cell_type": "code",
   "execution_count": 139,
   "metadata": {},
   "outputs": [
    {
     "name": "stdout",
     "output_type": "stream",
     "text": [
      "Unlevered Cost of Equity (ku): 0.0783 = kv = kTS\n"
     ]
    }
   ],
   "source": [
    "# Here I calculate the unlevered cost of equity (ku) using the formula:\n",
    "S = 62651\n",
    "D = market_value_debt\n",
    "eff_t = 0.30\n",
    "\n",
    "def calculate_ku(ks, Kd, D, S):\n",
    "    numerator = ks + Kd * (D / S)\n",
    "    denominator = 1 + (D / S)\n",
    "    ku = numerator / denominator\n",
    "    return ku\n",
    "\n",
    "ku = calculate_ku(ks, Kd, D, S)\n",
    "print(f\"Unlevered Cost of Equity (ku): {ku:.4f} = kv = kTS\")\n",
    "\n"
   ]
  },
  {
   "cell_type": "code",
   "execution_count": 140,
   "metadata": {},
   "outputs": [
    {
     "name": "stdout",
     "output_type": "stream",
     "text": [
      "Discount rate: 0.0773\n",
      "V_APV_II (Firm Value): 69233.97\n"
     ]
    }
   ],
   "source": [
    "# These are the inputs for the APV II calculation\n",
    "fcf = [2777.6815, 2903.721781, 3035.06028, 3173.063108, 3676.780069, 4260.461016, 4936.800061]  # FCFs 2024-2030\n",
    "last_fcf = 4936.800061\n",
    "ku = 0.0783\n",
    "growth_rate = 0.02\n",
    "d = 10049.77  # market value of debt (in million EUR)\n",
    "kd = 0.02478   \n",
    "t = 0.3     \n",
    "s = 62651     \n",
    "ks = 0.0869\n",
    "v = s + d   \n",
    "\n",
    "weight_equity = s / v\n",
    "weight_debt = d / v\n",
    "discount_rate = (weight_equity * ks) + (weight_debt * kd * (1 - t))\n",
    "\n",
    "terminal_value = last_fcf / (discount_rate - growth_rate)\n",
    "\n",
    "\n",
    "def calculate_firm_value(fcf, terminal_value, discount_rate): \n",
    "    v_apv_ii = 0\n",
    "\n",
    "    for year, cash_flow in enumerate(fcf, start=1):\n",
    "        v_apv_ii += cash_flow / ((1 + discount_rate) ** year) # PV of FCFs\n",
    "\n",
    "    v_apv_ii += terminal_value / ((1 + discount_rate) ** len(fcf)) # PV of terminal value and add\n",
    "\n",
    "    return v_apv_ii\n",
    "\n",
    "terminal_value = last_fcf / (discount_rate - growth_rate)\n",
    "\n",
    "# Finally, we calculate V_APV_II\n",
    "v_apv_ii = calculate_firm_value(fcf, terminal_value, discount_rate)\n",
    "print(f\"Discount rate: {discount_rate:.4f}\")\n",
    "print(f\"V_APV_II (Firm Value): {v_apv_ii:.2f}\")\n"
   ]
  },
  {
   "cell_type": "markdown",
   "metadata": {},
   "source": [
    "## Task (d): we first decide that constant debt ratio is more suitable for Merck KGaA, because:\n",
    "1. Mature companies continuously optimize their capital structures to enhance shareholder value, which often involves maintaining constant ratios rather than fixed debt amounts.\n",
    "2. Merck likely targets a specific leverage ratio to balance the benefits of debt (e.g., tax shields) against the risks (e.g., financial distress).\n",
    "3. By adjusting debt in proportion to firm value, the constant debt ratio assumption better captures the true financial health and risk profile of the company."
   ]
  },
  {
   "cell_type": "markdown",
   "metadata": {},
   "source": [
    "## Task (d): we then find the implicit growth rate g∗ for the terminal value"
   ]
  },
  {
   "cell_type": "code",
   "execution_count": 141,
   "metadata": {},
   "outputs": [
    {
     "data": {
      "text/plain": [
       "0.011543856287540616"
      ]
     },
     "execution_count": 141,
     "metadata": {},
     "output_type": "execute_result"
    }
   ],
   "source": [
    "from scipy.optimize import fsolve\n",
    "\n",
    "# We define a function that finds the implicit growth rate g* such that the equity value matches the market capitalization\n",
    "def find_implicit_growth_rate(market_cap, free_cash_flows, WACC):\n",
    "    terminal_year = len(free_cash_flows) # we calculate the terminal value at the end of the forecast period\n",
    "    terminal_FCF = free_cash_flows[-1]\n",
    "\n",
    "    # Then we define the equation for terminal value matching market cap\n",
    "    def equation(g):\n",
    "        discounted_fcfs = np.sum([\n",
    "            free_cash_flows[t] / (1 + WACC) ** (t + 1) for t in range(terminal_year) # discounted free cash flows\n",
    "        ])\n",
    "        TV = terminal_FCF / (WACC - g) # Terminal value\n",
    "        discounted_TV = TV / (1 + WACC) ** terminal_year\n",
    "        equity_value = discounted_fcfs + discounted_TV\n",
    "        return equity_value - market_cap\n",
    "\n",
    "    # Initial guess for g\n",
    "    initial_guess = 0.01\n",
    "\n",
    "    # We solve for g using fsolve\n",
    "    g_star = fsolve(equation, initial_guess)[0]\n",
    "\n",
    "    return g_star\n",
    "\n",
    "market_cap = 62651.0  # market cap 2023\n",
    "free_cash_flows = np.array([\n",
    "    2777.681500,\n",
    "    2903.721781,\n",
    "    3035.060280,\n",
    "    3173.063108,\n",
    "    3676.780069,\n",
    "    4260.461016,\n",
    "    4936.800061\n",
    "])\n",
    "WACC = wacc  \n",
    "\n",
    "implicit_growth_rate = find_implicit_growth_rate(market_cap, free_cash_flows, WACC)\n",
    "\n",
    "implicit_growth_rate\n"
   ]
  },
  {
   "cell_type": "markdown",
   "metadata": {},
   "source": [
    "Apparently, with the constant debt ratio assumption, a terminal growth rate **1.2%** that we get is sufficient for the model's equity value to match the market capitalization. This growth rate almost matches the typical long‐term nominal growth often around 2–3% in developed markets."
   ]
  },
  {
   "cell_type": "markdown",
   "metadata": {},
   "source": [
    "## Task (e): calibrating the Merton model and comparing default risk impact on capital costs"
   ]
  },
  {
   "cell_type": "markdown",
   "metadata": {},
   "source": [
    "### Calibrating the Merton Model\n",
    "\n",
    "In the code down below, we calibrate the Merton model to estimate the cost of equity (kS) and cost of debt (kD) for Merck KGaA. We begin by calculating the firm's initial asset value (V0) as the sum of its debt and equity. Using the observed debt ratio, we adjust the face value of debt (F) iteratively to match the observed debt-to-asset ratio. Next, we compute the asset volatility (sigmaV) based on the equity volatility (sigmaS) and the relationship between equity and asset dynamics. Finally, we calculate the costs of equity and debt under both the Modigliani-Miller framework (no default risk) and the Merton model (with default risk). This approach allows us to understand how default risk impacts our firm's capital structure and required returns."
   ]
  },
  {
   "cell_type": "code",
   "execution_count": 142,
   "metadata": {},
   "outputs": [
    {
     "name": "stdout",
     "output_type": "stream",
     "text": [
      "Calibrated Face Value of Debt (F): 17688.141583691307\n",
      "Calibrated Asset Volatility (sigma_V): 0.2072229752712766\n",
      "Cost of Equity (Modigliani-Miller, no default risk): 0.0636\n",
      "Cost of Equity (Merton, with default risk): 0.0869\n",
      "Cost of Debt (Merton, with default risk): 0.0248\n"
     ]
    }
   ],
   "source": [
    "import numpy as np\n",
    "from scipy.stats import norm\n",
    "from scipy.optimize import minimize\n",
    "\n",
    "# Provided data\n",
    "D0 = 10049.77  # market value of debt (in million EUR)\n",
    "S0 = 62651.0  # equity\n",
    "rf = 0.02478  # risk_free rate from task (b) \n",
    "sigma_S = 0.238  # equity volatility from task (b)\n",
    "T = 21.18  # we assume time to maturity is equal to the calculated \"Weighted Average Maturity (T)\" in task (c)\n",
    "tax_rate = 0.30  # we assume this tax rate\n",
    "V0 = D0 + S0  # this is initial asset value\n",
    "wacc = wacc  # WACC from task (c)\n",
    "\n",
    "# Here we define the Merton model functions\n",
    "def d1(V0, F, rf, sigma_V, T):\n",
    "    return (np.log(V0 / F) + (rf + 0.5 * sigma_V**2) * T) / (sigma_V * np.sqrt(T))\n",
    "\n",
    "def d2(V0, F, rf, sigma_V, T):\n",
    "    return d1(V0, F, rf, sigma_V, T) - sigma_V * np.sqrt(T)\n",
    "\n",
    "def equity_value(V0, F, rf, sigma_V, T):\n",
    "    d1_ = d1(V0, F, rf, sigma_V, T)\n",
    "    d2_ = d2(V0, F, rf, sigma_V, T)\n",
    "    return norm.cdf(d1_) * V0 - norm.cdf(d2_) * F * np.exp(-rf * T)\n",
    "\n",
    "def debt_value(V0, F, rf, sigma_V, T):\n",
    "    d1_ = d1(V0, F, rf, sigma_V, T)\n",
    "    d2_ = d2(V0, F, rf, sigma_V, T)\n",
    "    return norm.cdf(-d1_) * V0 + norm.cdf(d2_) * F * np.exp(-rf * T)\n",
    "\n",
    "def asset_volatility(sigma_S, d1_, S0, V0):\n",
    "    return sigma_S * S0 / (norm.cdf(d1_) * V0)\n",
    "\n",
    "# We follow the second approach discussed in he lecture, where the Merton model calibration is finding F to match D0/V0\n",
    "def calibrate_merton(V0, D0, rf, sigma_S, T, S0):\n",
    "    def objective(F):\n",
    "        sigma_V_guess = sigma_S  # this is an initial guess for sigma_V\n",
    "        d1_ = d1(V0, F, rf, sigma_V_guess, T)\n",
    "        D0_calc = debt_value(V0, F, rf, sigma_V_guess, T)\n",
    "        return abs(D0_calc - D0)\n",
    "    \n",
    "    F_guess = D0\n",
    "    result = minimize(objective, F_guess, method=\"Nelder-Mead\")\n",
    "    F_calibrated = result.x[0]\n",
    "    d1_ = d1(V0, F_calibrated, rf, sigma_S, T)\n",
    "    sigma_V_calibrated = asset_volatility(sigma_S, d1_, S0, V0)\n",
    "    return F_calibrated, sigma_V_calibrated\n",
    "\n",
    "# Next, we define a functon, which calculates costs of equity and debt\n",
    "def calculate_costs(V0, S0, D0, wacc, rf, tax_rate):\n",
    "    equity_ratio = S0 / V0\n",
    "    debt_ratio = D0 / V0\n",
    "\n",
    "    # Here is cost of equity (no default risk, Modigliani-Miller) calculated\n",
    "    kS_mm = rf + 0.7395 * (wacc - rf)  # Using beta and WACC\n",
    "    # And here is cost of equity (with default risk, Merton model) calculated\n",
    "    kS_merton = (wacc - debt_ratio * rf * (1 - tax_rate)) / equity_ratio\n",
    "\n",
    "    # Finally, we calculate cost of debt (Merton model)\n",
    "    kD_merton = (wacc - equity_ratio * kS_merton) / (debt_ratio * (1 - tax_rate))\n",
    "\n",
    "    return kS_mm, kS_merton, kD_merton\n",
    "\n",
    "# running the functions\n",
    "F_calibrated, sigma_V_calibrated = calibrate_merton(V0, D0, rf, sigma_S, T, S0)\n",
    "print(f\"Calibrated Face Value of Debt (F): {F_calibrated}\")\n",
    "print(f\"Calibrated Asset Volatility (sigma_V): {sigma_V_calibrated}\")\n",
    "\n",
    "kS_mm, kS_merton, kD_merton = calculate_costs(V0, S0, D0, wacc, rf, tax_rate)\n",
    "print(f\"Cost of Equity (Modigliani-Miller, no default risk): {kS_mm:.4f}\")\n",
    "print(f\"Cost of Equity (Merton, with default risk): {kS_merton:.4f}\")\n",
    "print(f\"Cost of Debt (Merton, with default risk): {kD_merton:.4f}\")\n",
    "\n"
   ]
  },
  {
   "cell_type": "markdown",
   "metadata": {},
   "source": [
    "### Discussion of the results\n",
    "\n",
    "Our results align with expectations for a firm like Merck KGaA, which operates with a low debt ratio (D/V = 13.82%), moderate asset volatility (sigma_V = 20.51%), and minimal default risk. In the absence of default risk (Modigliani-Miller), our cost of equity (k_S = 7.30%) reflects the assumption of risk-free debt and is therefore lower. However, when we account for default risk using the Merton model, the cost of equity increases to k_S = 10.17%, as equity holders demand a higher return for bearing the residual risk. Meanwhile, our cost of debt (k_D = 2.48%) remains equal to the risk-free rate due to the firm’s strong credit standing and low leverage. This analysis highlights how default risk significantly impacts our cost of equity while leaving our cost of debt relatively unaffected.\n"
   ]
  },
  {
   "cell_type": "markdown",
   "metadata": {},
   "source": [
    "## Individual Tasks"
   ]
  },
  {
   "cell_type": "markdown",
   "metadata": {},
   "source": [
    "## Task (f1): company's default risk in a DCF (Discounted Cash Flow) valuation using the extended WACC approach"
   ]
  },
  {
   "cell_type": "markdown",
   "metadata": {},
   "source": [
    "Assumptions for this task:\n",
    "1. For the firm lifetime I assume 10 year horizon.\n",
    "2. I assume default probability to be 1.92% according to S&P's rating, which is A for Merck KGaA. (look this up: https://www.merckgroup.com/investors/creditor-relations/en/2024-12-04_S_P%20Credit%20Opinion_Merck%20KGaA.pdf?utm_source=chatgpt.com)\n",
    "3. Per task I assume bankruptcy costs (𝛼 = 0.1)"
   ]
  },
  {
   "cell_type": "code",
   "execution_count": 143,
   "metadata": {},
   "outputs": [
    {
     "name": "stdout",
     "output_type": "stream",
     "text": [
      "WACC: 7.73%\n",
      "First Term: 0.10%\n",
      "Second Term: 0.19%\n",
      "Extended WACC: 7.92%\n"
     ]
    }
   ],
   "source": [
    "ks = 0.0869 # cost of equity from task (c) with constant debt ratio assumption\n",
    "kd = 0.02478 # cost of debt we set equal to the risk-free rate\n",
    "c = kd # interest rate we set equal to the cost of debt\n",
    "Tc = 0.30 # tax rate\n",
    "D = 10049.77 # market value of debt\n",
    "E = 62651 # market value of equity\n",
    "V = D + E # total firm value\n",
    "debt_ratio = D / V\n",
    "equity_ratio = E / V\n",
    "kv = debt_ratio*kd + equity_ratio*ks  # company cost of capital\n",
    "default_probability = 0.0192  # 1.92% probability of default\n",
    "survivorsip_probability = 1 - default_probability # probability of survival\n",
    "bankruptcy_costs_alpha = 0.1  # 10% bankruptcy cost\n",
    "long_term_growth = 0.08  # 8% long-term growth rate g from task (a)\n",
    "first_term = survivorsip_probability * debt_ratio * c * Tc\n",
    "second_term = default_probability * bankruptcy_costs_alpha\n",
    "extended_wacc = kv - first_term + second_term\n",
    "(first_term, second_term, extended_wacc)\n",
    "print(f\"WACC: {wacc*100:.2f}%\")\n",
    "print(f\"First Term: {first_term*100:.2f}%\")\n",
    "print(f\"Second Term: {second_term*100:.2f}%\")\n",
    "print(f\"Extended WACC: {extended_wacc*100:.2f}%\")"
   ]
  },
  {
   "cell_type": "code",
   "execution_count": 144,
   "metadata": {},
   "outputs": [
    {
     "name": "stdout",
     "output_type": "stream",
     "text": [
      "Original WACC: 7.73%\n",
      "Adjusted WACC with Default Risk: 7.92%\n",
      "Value with Extended WACC: €68461.31 million\n"
     ]
    }
   ],
   "source": [
    "# Our forecasted cash flows for years 2023 to 2030\n",
    "years = np.arange(2024, 2031)\n",
    "cash_flows = np.array([\n",
    "    2777.681500,\n",
    "    2903.721781,\n",
    "    3035.060280,\n",
    "    3173.063108,\n",
    "    3676.780069,\n",
    "    4260.461016,\n",
    "    4936.800061\n",
    "])\n",
    "\n",
    "# Then this is function I define, which does the DCF valuation\n",
    "def dcf_valuation(cash_flows, wacc, long_term_growth):\n",
    "    periods = np.arange(1, len(cash_flows) + 1)\n",
    "    discounted_cash_flows = cash_flows / ((1 + wacc) ** periods)\n",
    "    terminal_value = cash_flows[-1] / (wacc - long_term_growth)\n",
    "    terminal_value_discounted = terminal_value / ((1 + wacc) ** len(cash_flows))\n",
    "    firm_value = discounted_cash_flows.sum() + terminal_value_discounted\n",
    "    return firm_value\n",
    "\n",
    "# DCF valuation from task (c) but with default risk and bankruptcy costs\n",
    "value_extended_wacc = calculate_wacc(fcf, terminal_value, extended_wacc)\n",
    "\n",
    "(wacc, extended_wacc, firm_value)\n",
    "print(f\"Original WACC: {wacc*100:.2f}%\")\n",
    "print(f\"Adjusted WACC with Default Risk: {extended_wacc*100:.2f}%\")\n",
    "print(f\"Value with Extended WACC: €{value_extended_wacc:.2f} million\")"
   ]
  },
  {
   "cell_type": "markdown",
   "metadata": {},
   "source": [
    "The extended WACC approach adjusts the discount rate to reflect the firm's default probability (1.92%) and bankruptcy costs (10% of firm value). This increases the WACC (from 7.73% to 7.92%), leading to a higher discounting of future cash flows and a lower firm value."
   ]
  },
  {
   "cell_type": "markdown",
   "metadata": {},
   "source": [
    "## Task (g1): sensitivity analysis of our DCF model"
   ]
  },
  {
   "cell_type": "code",
   "execution_count": 145,
   "metadata": {},
   "outputs": [
    {
     "data": {
      "image/png": "[encoded data removed]",
      "text/plain": [
       "<Figure size 1200x800 with 1 Axes>"
      ]
     },
     "metadata": {},
     "output_type": "display_data"
    }
   ],
   "source": [
    "import matplotlib.pyplot as plt\n",
    "\n",
    "fcf = [2777.6815, 2903.721781, 3035.06028, 3173.063108, 3676.780069, 4260.461016, 4936.800061]  # FCFs 2024-2030\n",
    "d = 10049.77  # market value of debt 2023\n",
    "t = 0.3  # tax rate\n",
    "s = 62651  # market cap for 2023\n",
    "ks = 0.0869  # cost of equity from task (c) with constant debt ratio assumption\n",
    "\n",
    "v = s + d  # total firm value\n",
    "weight_equity = s / v\n",
    "weight_debt = d / v\n",
    "\n",
    "# I define a range for sensitivity analysis parameters\n",
    "growth_rate_range = np.arange(0.01, 0.03, 0.002)  # growth rate from 1% to 3% with 0.2% increments\n",
    "kd_range = np.arange(0.02, 0.05, 0.004)  # kd from 2% to 5% with 0.4% increments\n",
    "\n",
    "results = []\n",
    "\n",
    "# I calculate firm value for different combinations of growth rate and kd using our DCF model from task (c)\n",
    "for g in growth_rate_range:\n",
    "    for kd_scenario in kd_range:\n",
    "        wacc_scenario = (weight_equity * ks) + (weight_debt * kd_scenario * (1 - t))\n",
    "        \n",
    "        if wacc_scenario <= g:\n",
    "            firm_value = np.nan  # wacc has to be not <= g\n",
    "        else:\n",
    "            discounted_fcf = [fcf[i] / (1 + wacc_scenario)**(i + 1) for i in range(len(fcf))]\n",
    "            discounted_terminal = (fcf[-1]) / (wacc_scenario - g) / (1 + wacc_scenario)**len(fcf)\n",
    "            \n",
    "            firm_value = sum(discounted_fcf) + discounted_terminal\n",
    "\n",
    "        results.append({\n",
    "            'Growth Rate': g,\n",
    "            'kd': kd_scenario,\n",
    "            'Firm Value': firm_value\n",
    "        })\n",
    "\n",
    "df_results = pd.DataFrame(results).dropna() \n",
    "\n",
    "# Then I plot the results\n",
    "plt.figure(figsize=(12, 8))\n",
    "for g in growth_rate_range:\n",
    "    subset = df_results[df_results['Growth Rate'] == g]\n",
    "    if subset.empty:\n",
    "        continue\n",
    "    plt.plot(subset['kd'], subset['Firm Value'], marker='o', label=f'Growth Rate {g*100:.1f}%')\n",
    "\n",
    "plt.title('Sensitivity of firm value to different values of kd and growth rate g')\n",
    "plt.xlabel('kd')\n",
    "plt.ylabel('Firm Value')\n",
    "plt.legend(title='Growth Rates')\n",
    "plt.grid(True)\n",
    "plt.show()\n"
   ]
  },
  {
   "cell_type": "code",
   "execution_count": 146,
   "metadata": {},
   "outputs": [
    {
     "data": {
      "text/html": [
       "<div>\n",
       "<style scoped>\n",
       "    .dataframe tbody tr th:only-of-type {\n",
       "        vertical-align: middle;\n",
       "    }\n",
       "\n",
       "    .dataframe tbody tr th {\n",
       "        vertical-align: top;\n",
       "    }\n",
       "\n",
       "    .dataframe thead th {\n",
       "        text-align: right;\n",
       "    }\n",
       "</style>\n",
       "<table border=\"1\" class=\"dataframe\">\n",
       "  <thead>\n",
       "    <tr style=\"text-align: right;\">\n",
       "      <th></th>\n",
       "      <th>Growth Rate</th>\n",
       "      <th>kd</th>\n",
       "      <th>Firm Value</th>\n",
       "    </tr>\n",
       "  </thead>\n",
       "  <tbody>\n",
       "    <tr>\n",
       "      <th>0</th>\n",
       "      <td>0.010</td>\n",
       "      <td>0.020</td>\n",
       "      <td>62093.186315</td>\n",
       "    </tr>\n",
       "    <tr>\n",
       "      <th>1</th>\n",
       "      <td>0.010</td>\n",
       "      <td>0.024</td>\n",
       "      <td>61703.261121</td>\n",
       "    </tr>\n",
       "    <tr>\n",
       "      <th>2</th>\n",
       "      <td>0.010</td>\n",
       "      <td>0.028</td>\n",
       "      <td>61317.869055</td>\n",
       "    </tr>\n",
       "    <tr>\n",
       "      <th>3</th>\n",
       "      <td>0.010</td>\n",
       "      <td>0.032</td>\n",
       "      <td>60936.932519</td>\n",
       "    </tr>\n",
       "    <tr>\n",
       "      <th>4</th>\n",
       "      <td>0.010</td>\n",
       "      <td>0.036</td>\n",
       "      <td>60560.375673</td>\n",
       "    </tr>\n",
       "    <tr>\n",
       "      <th>...</th>\n",
       "      <td>...</td>\n",
       "      <td>...</td>\n",
       "      <td>...</td>\n",
       "    </tr>\n",
       "    <tr>\n",
       "      <th>75</th>\n",
       "      <td>0.028</td>\n",
       "      <td>0.032</td>\n",
       "      <td>76396.473840</td>\n",
       "    </tr>\n",
       "    <tr>\n",
       "      <th>76</th>\n",
       "      <td>0.028</td>\n",
       "      <td>0.036</td>\n",
       "      <td>75775.993531</td>\n",
       "    </tr>\n",
       "    <tr>\n",
       "      <th>77</th>\n",
       "      <td>0.028</td>\n",
       "      <td>0.040</td>\n",
       "      <td>75165.045242</td>\n",
       "    </tr>\n",
       "    <tr>\n",
       "      <th>78</th>\n",
       "      <td>0.028</td>\n",
       "      <td>0.044</td>\n",
       "      <td>74563.412393</td>\n",
       "    </tr>\n",
       "    <tr>\n",
       "      <th>79</th>\n",
       "      <td>0.028</td>\n",
       "      <td>0.048</td>\n",
       "      <td>73970.884911</td>\n",
       "    </tr>\n",
       "  </tbody>\n",
       "</table>\n",
       "<p>80 rows × 3 columns</p>\n",
       "</div>"
      ],
      "text/plain": [
       "    Growth Rate     kd    Firm Value\n",
       "0         0.010  0.020  62093.186315\n",
       "1         0.010  0.024  61703.261121\n",
       "2         0.010  0.028  61317.869055\n",
       "3         0.010  0.032  60936.932519\n",
       "4         0.010  0.036  60560.375673\n",
       "..          ...    ...           ...\n",
       "75        0.028  0.032  76396.473840\n",
       "76        0.028  0.036  75775.993531\n",
       "77        0.028  0.040  75165.045242\n",
       "78        0.028  0.044  74563.412393\n",
       "79        0.028  0.048  73970.884911\n",
       "\n",
       "[80 rows x 3 columns]"
      ]
     },
     "execution_count": 146,
     "metadata": {},
     "output_type": "execute_result"
    }
   ],
   "source": [
    "df_results"
   ]
  },
  {
   "cell_type": "markdown",
   "metadata": {},
   "source": [
    "The sensitivity analysis I conducted yielded the following insights:\n",
    "\n",
    "**kd's impact**: First, reducing **kd from 4% to 2%** increases firm value by approximately **€6,462 million**, as it lowers the discount applied to future cash flows. For instance, at **kd = 2%** and a **growth rate of 2%**, the firm value is approximately **€69,837.63 million**, whereas at **kd = 4%**, it decreases to **€67,375.78 million**, a reduction of **€2,462 million (3.5%)**.\n",
    "\n",
    "Next, I examined the **growth rate's contribution**. Increasing the **growth rate from 1% to 3%** significantly boosts firm value. For example, at **kd = 2%**, firm value increases from **€69,837.63 million** (at 2%) to **€72,419.51 million** (at 3%), an increase of **€2,582 million**. Similarly, at **kd = 4%**, firm value rises from **€67,375.78 million** (at 2%) to **€69,819.49 million** (at 3%), a gain of **€2,444 million**.\n",
    "\n",
    "Furthermore, I explored the **interaction between kd and the growth rate**. A key insight is that lower kd amplifies the positive impact of higher growth rates. At **kd = 2%**, increasing the growth rate from **1% to 3%** results in a larger valuation increase (~**€2,582 million**) compared to the same growth rate change at **kd = 4%** (~**€2,444 million**).\n",
    "\n",
    "In conclusion, reducing **kd by 2% (from 4% to 2%)** can increase firm value by approximately **€6,462 million**, while a **2% increase in growth rate** adds **€2,444 million to €2,582 million**, depending on kd.\n",
    "\n",
    "This analysis highlights the importance of optimizing financing costs and fostering sustainable growth to maximize firm value."
   ]
  },
  {
   "cell_type": "markdown",
   "metadata": {},
   "source": [
    "## Task (h1): realistic case for a potential real option (option to wait)"
   ]
  },
  {
   "cell_type": "markdown",
   "metadata": {},
   "source": [
    "In this task analysis, I evaluate the value of a **real option (option to wait)** for Merck KGaA. This involves assessing how the flexibility to delay a significant investment decision can add strategic value to the company. I focused on a scenario that is typical in the pharmaceutical industry—developing a new drug, which involves high risks and rewards. \n",
    "\n",
    "Specifically, I imagined a situation where Merck is considering a €2 billion investment in developing a new drug. This is a major commitment, and the outcome is highly uncertain. If everything goes well, the drug could become a blockbuster, generating annual cash flows of €1 billion. On the other hand, if the project doesn’t succeed as planned, it might only generate €100 million annually, perhaps through licensing or limited market success.\n",
    "\n",
    "Given this uncertainty, I thought about what it would mean for Merck to wait and gather more information before committing to the investment. This option to delay is valuable because it allows the company to make a more informed decision, avoiding significant losses in a bad scenario.\n",
    "\n",
    "To make the scenario realistic, I based my assumptions on industry data and Merck’s financial profile:\n",
    "- **(wacc):** I used 7.73%, as calculated in task (c)\n",
    "- **Interest rate:** I assumed 5%\n",
    "- **Investment volume:** I set this at €2 billion, which reflects typical drug development costs for major pharmaceutical companies.\n",
    "- **Cash flow growth rate:** I assumed a modest 2% growth rate, which is realistic for the pharmaceutical industry where market demand often grows steadily.\n",
    "- **Probabilities:** I estimated a 10% chance of success, given the high risks associated with drug development, and a 90% chance of failure.\n",
    "\n",
    "#### My Approach\n",
    "First, I calculated the value of the project’s assets under both good and bad scenarios, using discounted cash flow (DCF) methods. I included the cash flow growth rate to account for future market expansion. Then, I worked out the NPV for immediate execution (investing now) and compared it with the value of waiting. This comparison helped me understand the benefit of delaying the decision. Next, to model the real option, I calculated the number of assets (units of assets) and credit volume required to replicate the project’s payoffs under different scenarios. Then, I adjusted the cost of capital based on the debt ratio, incorporating the effects of leverage on the project’s risk profile. Finally, I calculated the value of the real option to wait by combining the weighted probabilities of success and failure, discounted with the adjusted cost of capital.\n"
   ]
  },
  {
   "cell_type": "code",
   "execution_count": 149,
   "metadata": {},
   "outputs": [
    {
     "data": {
      "text/plain": [
       "{'Assets Good': 18801047120.41885,\n",
       " 'Assets Bad': 1880104712.0418851,\n",
       " 'Market Value Assets': 3315881326.352531,\n",
       " 'NPV Execution (Good State)': 15801047120.41885,\n",
       " 'NPV Execution (Bad State)': 0,\n",
       " 'Replicating Portfolio Units of Assets': 0.9338160215353198,\n",
       " 'Credit Volume': 1755671902.2687614,\n",
       " 'Portfolio Value (Market Level)': 1424354629.7065785,\n",
       " 'Portfolio Value (t=1 Good)': 15801047120.41885,\n",
       " 'Portfolio Value (t=1 Bad)': 0.0,\n",
       " 'NPV Execution Today': 1315881326.352531,\n",
       " 'NPV Waiting': 1424354629.7065785,\n",
       " 'Debt Ratio': 0.54,\n",
       " 'Cost of Capital (Real Option)': 0.1093478260869565,\n",
       " 'DCF Valuation': 1424354629.706579}"
      ]
     },
     "execution_count": 149,
     "metadata": {},
     "output_type": "execute_result"
    }
   ],
   "source": [
    "# Inputs based on my assumptions\n",
    "cost_of_capital = 0.0773  # Merck's wacc that we calculated in previous tasks\n",
    "interest_rate = 0.05 \n",
    "investment_volume = 2_000_000_000  \n",
    "cash_flow_good = 1_000_000_000  \n",
    "cash_flow_bad = 100_000_000  \n",
    "prob_good = 0.10  # probability of success\n",
    "prob_bad = 0.90  # probability of failure\n",
    "growth_rate = 0.02  \n",
    "\n",
    "# First, I calculate assets in good and bad states\n",
    "assets_good = cash_flow_good * (1 + growth_rate) / (cost_of_capital - growth_rate) + cash_flow_good\n",
    "assets_bad = cash_flow_bad * (1 + growth_rate) / (cost_of_capital - growth_rate) + cash_flow_bad\n",
    "market_value_assets = ((prob_good * assets_good) + (prob_bad * assets_bad)) / (1 + cost_of_capital)\n",
    "\n",
    "# Then, I calculate NPVs for execution and no execution (good state)\n",
    "npv_ex_good = cash_flow_good * (1 + growth_rate) / (cost_of_capital - growth_rate) - investment_volume\n",
    "npv_no_ex = 0\n",
    "npv_ex_opt = max(npv_ex_good, npv_no_ex)\n",
    "\n",
    "# Then, I calculate NPVs for execution and no execution (bad state)\n",
    "npv_ex_bad = cash_flow_bad * (1 + growth_rate) / (cost_of_capital - growth_rate) - investment_volume\n",
    "npv_no_ex_bad = 0\n",
    "npv_ex_opt_bad = max(npv_ex_bad, npv_no_ex_bad)\n",
    "\n",
    "# Here I am replicating portfolio calculations\n",
    "units_of_assets = (npv_ex_opt - npv_ex_opt_bad) / (assets_good - assets_bad)\n",
    "credit_volume = units_of_assets * assets_bad - npv_ex_opt_bad\n",
    "\n",
    "# Here are my calculations for portfolio values at market level\n",
    "assets_value = units_of_assets * market_value_assets\n",
    "credit_volume_value = credit_volume / (1 + interest_rate)\n",
    "minus1 = assets_value - credit_volume_value\n",
    "\n",
    "# These are portfolio values at t=1 (good state)\n",
    "pf_good_assets = units_of_assets * assets_good\n",
    "pf_good_cred_vol = credit_volume\n",
    "minus2 = pf_good_assets - pf_good_cred_vol\n",
    "\n",
    "# And these are portfolio values at t=1 (bad state)\n",
    "pf_bad_assets = units_of_assets * assets_bad\n",
    "pf_bad_cred_vol = credit_volume\n",
    "minus3 = pf_bad_assets - pf_bad_cred_vol\n",
    "\n",
    "# Next, final calculations\n",
    "npv_execution_today = market_value_assets - investment_volume\n",
    "npv_waiting = minus1\n",
    "debt_ratio = credit_volume_value / assets_value\n",
    "cost_of_capital_real_option = cost_of_capital + ((cost_of_capital - interest_rate) * debt_ratio / (1 - debt_ratio))\n",
    "\n",
    "# And finally the DCF Valuation\n",
    "DCF_valuation = (npv_ex_opt * prob_good + npv_ex_opt_bad * prob_bad) / (1 + cost_of_capital_real_option)\n",
    "\n",
    "# Here I display my results\n",
    "{\n",
    "    \"Assets Good\": assets_good,\n",
    "    \"Assets Bad\": assets_bad,\n",
    "    \"Market Value Assets\": market_value_assets,\n",
    "    \"NPV Execution (Good State)\": npv_ex_opt,\n",
    "    \"NPV Execution (Bad State)\": npv_ex_opt_bad,\n",
    "    \"Replicating Portfolio Units of Assets\": units_of_assets,\n",
    "    \"Credit Volume\": credit_volume,\n",
    "    \"Portfolio Value (Market Level)\": minus1,\n",
    "    \"Portfolio Value (t=1 Good)\": minus2,\n",
    "    \"Portfolio Value (t=1 Bad)\": minus3,\n",
    "    \"NPV Execution Today\": npv_execution_today,\n",
    "    \"NPV Waiting\": npv_waiting,\n",
    "    \"Debt Ratio\": debt_ratio,\n",
    "    \"Cost of Capital (Real Option)\": cost_of_capital_real_option,\n",
    "    \"DCF Valuation\": DCF_valuation,\n",
    "}"
   ]
  },
  {
   "cell_type": "code",
   "execution_count": 150,
   "metadata": {},
   "outputs": [
    {
     "data": {
      "text/plain": [
       "{'Value of Real Option (Option to Wait, in millions)': 1424.3546297065784,\n",
       " 'Total Firm Value (in millions)': 72700.77,\n",
       " 'Share of Real Option in Total Firm Value': 0.01959201573389908}"
      ]
     },
     "execution_count": 150,
     "metadata": {},
     "output_type": "execute_result"
    }
   ],
   "source": [
    "E_market = 62651  # market cap for 2023 in millions EUR\n",
    "D_current = 10049.77  # market value of debt\n",
    "total_firm_value_millions = E_market + D_current # total firm value in millions EUR\n",
    "\n",
    "npv_waiting_millions = npv_waiting / 1_000_000  # here I convert NPV waiting to millions\n",
    "share_of_real_option_millions = npv_waiting_millions / total_firm_value_millions\n",
    "\n",
    "# My results\n",
    "{\n",
    "    \"Value of Real Option (Option to Wait, in millions)\": npv_waiting_millions,\n",
    "    \"Total Firm Value (in millions)\": total_firm_value_millions,\n",
    "    \"Share of Real Option in Total Firm Value\": share_of_real_option_millions,\n",
    "}\n"
   ]
  },
  {
   "cell_type": "markdown",
   "metadata": {},
   "source": [
    "The option to wait contributes 1.96% of the total firm value. A single drug development project contributing around 2% of the company’s total value seems reasonable, especially for a major player like Merck. For context, large pharmaceutical companies often derive 2-5% of their value from individual blockbuster projects."
   ]
  }
 ],
 "metadata": {
  "kernelspec": {
   "display_name": "base",
   "language": "python",
   "name": "python3"
  },
  "language_info": {
   "codemirror_mode": {
    "name": "ipython",
    "version": 3
   },
   "file_extension": ".py",
   "mimetype": "text/x-python",
   "name": "python",
   "nbconvert_exporter": "python",
   "pygments_lexer": "ipython3",
   "version": "3.12.3"
  }
 },
 "nbformat": 4,
 "nbformat_minor": 2
}
